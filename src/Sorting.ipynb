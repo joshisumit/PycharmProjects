{
 "cells": [
  {
   "cell_type": "code",
   "execution_count": 6,
   "metadata": {
    "collapsed": false
   },
   "outputs": [
    {
     "name": "stdout",
     "output_type": "stream",
     "text": [
      "[99, 1, 123, 65]\n",
      "[1, 65, 99, 123]\n",
      "----------\n",
      "['sumit', 'abc', 'jeorge', 'bob']\n",
      "None\n",
      "['abc', 'bob', 'jeorge', 'sumit']\n"
     ]
    }
   ],
   "source": [
    "# Sorting using sort() method..It sorts the original list and returns None\n",
    "li=[99,1,123,65]\n",
    "print li\n",
    "li.sort() # It changes the original list\n",
    "print li\n",
    "print '-'*10\n",
    "\n",
    "ns=['sumit','abc','jeorge','bob']\n",
    "print ns\n",
    "dd=ns.sort()\n",
    "print dd\n",
    "print ns"
   ]
  },
  {
   "cell_type": "code",
   "execution_count": 12,
   "metadata": {
    "collapsed": false
   },
   "outputs": [
    {
     "name": "stdout",
     "output_type": "stream",
     "text": [
      "[99, 1, 23, 65]\n",
      "New sorted List [1, 23, 65, 99]\n",
      "Original List [99, 1, 23, 65]\n"
     ]
    }
   ],
   "source": [
    "# sorted() - it returns new list. Original list will not be modified\n",
    "ll=[99,1,23,65]\n",
    "print ll\n",
    "print 'New sorted List',sorted(ll)\n",
    "print 'Original List', ll"
   ]
  },
  {
   "cell_type": "code",
   "execution_count": 13,
   "metadata": {
    "collapsed": false
   },
   "outputs": [
    {
     "name": "stdout",
     "output_type": "stream",
     "text": [
      "[99, 65, 23, 1]\n"
     ]
    }
   ],
   "source": [
    "# sorted(list,reverse=True)\n",
    "# List in Reverse order\n",
    "print sorted(ll,reverse=True)"
   ]
  },
  {
   "cell_type": "code",
   "execution_count": 14,
   "metadata": {
    "collapsed": false
   },
   "outputs": [
    {
     "name": "stdout",
     "output_type": "stream",
     "text": [
      "Help on built-in function sorted in module __builtin__:\n",
      "\n",
      "sorted(...)\n",
      "    sorted(iterable, cmp=None, key=None, reverse=False) --> new sorted list\n",
      "\n"
     ]
    }
   ],
   "source": [
    "help(sorted)\n",
    "# U can feed any iterable in sorted()..Not necessary list\n",
    "# Out of 4 parameters, 3 are optional\n",
    "# "
   ]
  },
  {
   "cell_type": "code",
   "execution_count": 16,
   "metadata": {
    "collapsed": false
   },
   "outputs": [
    {
     "name": "stdout",
     "output_type": "stream",
     "text": [
      "['aaaa', 'bb', 'ccc', 'd']\n"
     ]
    }
   ],
   "source": [
    "# Custom Sorting\n",
    "a=['ccc','aaaa','d','bb']\n",
    "print sorted(a)"
   ]
  },
  {
   "cell_type": "markdown",
   "metadata": {},
   "source": [
    "#### Problem with above Sorting is, it sorts based on textual way. I want to sort the strings based on their length() . Then What?"
   ]
  },
  {
   "cell_type": "code",
   "execution_count": 17,
   "metadata": {
    "collapsed": false
   },
   "outputs": [
    {
     "name": "stdout",
     "output_type": "stream",
     "text": [
      "['d', 'bb', 'ccc', 'aaaa']\n"
     ]
    }
   ],
   "source": [
    "# Custom Sorting based on length of the string\n",
    "print sorted(a,key=len)"
   ]
  },
  {
   "cell_type": "code",
   "execution_count": 20,
   "metadata": {
    "collapsed": false
   },
   "outputs": [
    {
     "name": "stdout",
     "output_type": "stream",
     "text": [
      "['ccc', 'aaaz', 'd', 'bb']\n"
     ]
    }
   ],
   "source": [
    "print a\n",
    "a[1]='aaaz'"
   ]
  },
  {
   "cell_type": "code",
   "execution_count": 23,
   "metadata": {
    "collapsed": false
   },
   "outputs": [
    {
     "name": "stdout",
     "output_type": "stream",
     "text": [
      "['ccc', 'aaaz', 'd', 'bb']\n",
      "['bb', 'ccc', 'd', 'aaaz']\n"
     ]
    }
   ],
   "source": [
    "# Sort List based on last element\n",
    "def last(s):\n",
    "    return s[-1]\n",
    "\n",
    "print a\n",
    "print sorted(a,key=last)"
   ]
  },
  {
   "cell_type": "code",
   "execution_count": 25,
   "metadata": {
    "collapsed": false
   },
   "outputs": [
    {
     "name": "stdout",
     "output_type": "stream",
     "text": [
      "['ccc', 'AAAA', 'D', 'bb']\n",
      "['AAAA', 'bb', 'ccc', 'D']\n"
     ]
    }
   ],
   "source": [
    "strs = ['ccc', 'AAAA', 'D', 'bb']\n",
    "print strs\n",
    "print sorted(strs,key=str.upper) #to treat uppercase and lowercase the same, then sort them"
   ]
  },
  {
   "cell_type": "code",
   "execution_count": 30,
   "metadata": {
    "collapsed": false
   },
   "outputs": [
    {
     "name": "stdout",
     "output_type": "stream",
     "text": [
      "ccc:AAAA:D:bb\n",
      "['ccc', 'AAAA', 'D', 'bb']\n",
      "----------\n",
      "ccc\n",
      "AAAA\n",
      "D\n",
      "bb\n"
     ]
    }
   ],
   "source": [
    "# Switch between String and List 1\n",
    "# join() - Get String from List: Takes a List, concat all string of list in one single string\n",
    "# strs=['ccc', 'AAAA', 'D', 'bb']\n",
    "print \":\".join(strs)\n",
    "print strs\n",
    "print '-'*10\n",
    "dd=\"\\n\".join(strs)\n",
    "print dd\n"
   ]
  },
  {
   "cell_type": "code",
   "execution_count": 31,
   "metadata": {
    "collapsed": false
   },
   "outputs": [
    {
     "name": "stdout",
     "output_type": "stream",
     "text": [
      "ccc\n",
      "AAAA\n",
      "D\n",
      "bb\n",
      "['ccc', 'AAAA', 'D', 'bb']\n"
     ]
    }
   ],
   "source": [
    "# Switch between String and List 2\n",
    "# split(): Get List from String: Takes String and splits it with delemeter into a List\n",
    "print dd\n",
    "newl=dd.split('\\n')\n",
    "print newl\n"
   ]
  },
  {
   "cell_type": "code",
   "execution_count": 35,
   "metadata": {
    "collapsed": false
   },
   "outputs": [
    {
     "name": "stdout",
     "output_type": "stream",
     "text": [
      "['ccc', 'aaaz', 'd', 'bb']\n",
      "['ccc', 'aaaz', 'd', 'bb']\n"
     ]
    }
   ],
   "source": [
    "# Copy some element of List into another List\n",
    "print a\n",
    "b=[]\n",
    "for data in range(len(a)):\n",
    "    b.append(a[data])\n",
    "print b"
   ]
  },
  {
   "cell_type": "code",
   "execution_count": null,
   "metadata": {
    "collapsed": true
   },
   "outputs": [],
   "source": []
  }
 ],
 "metadata": {
  "kernelspec": {
   "display_name": "Python 2",
   "language": "python",
   "name": "python2"
  },
  "language_info": {
   "codemirror_mode": {
    "name": "ipython",
    "version": 2
   },
   "file_extension": ".py",
   "mimetype": "text/x-python",
   "name": "python",
   "nbconvert_exporter": "python",
   "pygments_lexer": "ipython2",
   "version": "2.7.6"
  }
 },
 "nbformat": 4,
 "nbformat_minor": 2
}

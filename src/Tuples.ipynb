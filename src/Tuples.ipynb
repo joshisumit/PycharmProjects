{
 "cells": [
  {
   "cell_type": "code",
   "execution_count": 1,
   "metadata": {
    "collapsed": false
   },
   "outputs": [
    {
     "name": "stdout",
     "output_type": "stream",
     "text": [
      "(1, 2, 3)\n",
      "140577685132624\n",
      "3\n",
      "1\n"
     ]
    }
   ],
   "source": [
    "# Tuples \n",
    "a=(1,2,3)\n",
    "print a\n",
    "print id(a)\n",
    "print len(a)\n",
    "print a[0]"
   ]
  },
  {
   "cell_type": "code",
   "execution_count": 2,
   "metadata": {
    "collapsed": false
   },
   "outputs": [
    {
     "name": "stdout",
     "output_type": "stream",
     "text": [
      "(1, 2, 3)\n"
     ]
    },
    {
     "ename": "TypeError",
     "evalue": "'tuple' object does not support item assignment",
     "output_type": "error",
     "traceback": [
      "\u001b[0;31m---------------------------------------------------------------------------\u001b[0m",
      "\u001b[0;31mTypeError\u001b[0m                                 Traceback (most recent call last)",
      "\u001b[0;32m<ipython-input-2-fffbe7082a6a>\u001b[0m in \u001b[0;36m<module>\u001b[0;34m()\u001b[0m\n\u001b[1;32m      1\u001b[0m \u001b[0;31m# Tuples are immutable(Like String) - Once they are declared they can not be changed\u001b[0m\u001b[0;34m\u001b[0m\u001b[0;34m\u001b[0m\u001b[0m\n\u001b[1;32m      2\u001b[0m \u001b[0;32mprint\u001b[0m \u001b[0ma\u001b[0m\u001b[0;34m\u001b[0m\u001b[0m\n\u001b[0;32m----> 3\u001b[0;31m \u001b[0ma\u001b[0m\u001b[0;34m[\u001b[0m\u001b[0;36m0\u001b[0m\u001b[0;34m]\u001b[0m\u001b[0;34m=\u001b[0m\u001b[0;34m'sumit'\u001b[0m\u001b[0;34m\u001b[0m\u001b[0m\n\u001b[0m",
      "\u001b[0;31mTypeError\u001b[0m: 'tuple' object does not support item assignment"
     ]
    }
   ],
   "source": [
    "# Tuples are immutable(Like String) - Once they are declared they can not be changed\n",
    "print a\n",
    "a[0]='sumit' # this will throw some error"
   ]
  },
  {
   "cell_type": "code",
   "execution_count": 4,
   "metadata": {
    "collapsed": false
   },
   "outputs": [
    {
     "name": "stdout",
     "output_type": "stream",
     "text": [
      "1\n",
      "<type 'int'>\n",
      "2\n"
     ]
    }
   ],
   "source": [
    "# tuple assignment\n",
    "(x,y)=(1,2)\n",
    "print x\n",
    "print type(x)\n",
    "print y"
   ]
  },
  {
   "cell_type": "markdown",
   "metadata": {},
   "source": [
    "[A link to section 38](#section38)"
   ]
  },
  {
   "cell_type": "code",
   "execution_count": 7,
   "metadata": {
    "collapsed": false
   },
   "outputs": [
    {
     "name": "stdout",
     "output_type": "stream",
     "text": [
      "1\n",
      "2\n",
      "3\n"
     ]
    }
   ],
   "source": [
    "[aa,bb,cc]=[1,2,3]\n",
    "print aa\n",
    "print bb\n",
    "print cc"
   ]
  },
  {
   "cell_type": "code",
   "execution_count": 8,
   "metadata": {
    "collapsed": false
   },
   "outputs": [
    {
     "name": "stdout",
     "output_type": "stream",
     "text": [
      "('srj', 24, 'Pune')\n"
     ]
    }
   ],
   "source": [
    "# Tuple assignment\n",
    "b=('srj',24,'Pune') # b is tuple\n",
    "print b\n",
    "(name,age,city)=b # 3 variables are decalred using one single statement\n",
    "\n",
    "# Tuple Packing:  the values on the left are ‘packed’ together in a tuple:\n",
    "c=('Sumit',25)\n",
    "\n",
    "# Tuple Unpacking: the values in a tuple on the right are ‘unpacked’ into the variables/names on the right\n"
   ]
  },
  {
   "cell_type": "code",
   "execution_count": 12,
   "metadata": {
    "collapsed": false
   },
   "outputs": [
    {
     "name": "stdout",
     "output_type": "stream",
     "text": [
      "srj 24 Pune\n"
     ]
    }
   ],
   "source": [
    "print name,age,city"
   ]
  },
  {
   "cell_type": "code",
   "execution_count": 15,
   "metadata": {
    "collapsed": false
   },
   "outputs": [
    {
     "name": "stdout",
     "output_type": "stream",
     "text": [
      "srj\n",
      "demo\n",
      "----------\n",
      "demo\n",
      "srj\n"
     ]
    }
   ],
   "source": [
    "# Variable Swapping using Tuple:\n",
    "aa='srj'\n",
    "bb='demo'\n",
    "\n",
    "print aa\n",
    "print bb\n",
    "print '-'*10\n",
    "#swap using tuple (parenthesis)\n",
    "(aa,bb)=(bb,aa)\n",
    "# Left: Tuple of variables\n",
    "# Right: Tuple of values\n",
    "# Each value is assigned to its respective variables\n",
    "# First on the right side value of aa and bb will be replaced with actual value. then it assigns value to left side\n",
    "print aa\n",
    "print bb"
   ]
  },
  {
   "cell_type": "code",
   "execution_count": 16,
   "metadata": {
    "collapsed": false
   },
   "outputs": [
    {
     "ename": "ValueError",
     "evalue": "need more than 2 values to unpack",
     "output_type": "error",
     "traceback": [
      "\u001b[0;31m---------------------------------------------------------------------------\u001b[0m",
      "\u001b[0;31mValueError\u001b[0m                                Traceback (most recent call last)",
      "\u001b[0;32m<ipython-input-16-bea9eab7d303>\u001b[0m in \u001b[0;36m<module>\u001b[0;34m()\u001b[0m\n\u001b[0;32m----> 1\u001b[0;31m \u001b[0;34m(\u001b[0m\u001b[0md\u001b[0m\u001b[0;34m,\u001b[0m\u001b[0me\u001b[0m\u001b[0;34m,\u001b[0m\u001b[0mf\u001b[0m\u001b[0;34m)\u001b[0m\u001b[0;34m=\u001b[0m\u001b[0;34m(\u001b[0m\u001b[0;36m1\u001b[0m\u001b[0;34m,\u001b[0m\u001b[0;36m2\u001b[0m\u001b[0;34m)\u001b[0m\u001b[0;34m\u001b[0m\u001b[0m\n\u001b[0m\u001b[1;32m      2\u001b[0m \u001b[0;32mprint\u001b[0m \u001b[0md\u001b[0m\u001b[0;34m\u001b[0m\u001b[0m\n\u001b[1;32m      3\u001b[0m \u001b[0;32mprint\u001b[0m \u001b[0me\u001b[0m\u001b[0;34m\u001b[0m\u001b[0m\n",
      "\u001b[0;31mValueError\u001b[0m: need more than 2 values to unpack"
     ]
    }
   ],
   "source": [
    "# For packing/Unpacking both sides require same number of values\n",
    "(d,e,f)=(1,2)\n",
    "print d\n",
    "print e"
   ]
  },
  {
   "cell_type": "code",
   "execution_count": 57,
   "metadata": {
    "collapsed": false,
    "slideshow": {
     "slide_type": "slide"
    }
   },
   "outputs": [
    {
     "name": "stdout",
     "output_type": "stream",
     "text": [
      "[('sumit', 24), ('dd', 98), ('pk', 12)]\n",
      "Length of List 3\n",
      "Length of first element of List i.e Tuple 2\n",
      "('dd', 98)\n",
      "24\n",
      "---Access each element of list of tuples---\n",
      "sumit\n",
      "24\n",
      "dd\n",
      "98\n",
      "pk\n",
      "12\n",
      "[('sumit', 24), ('dd', 98), ('pk', 12)]\n"
     ]
    }
   ],
   "source": [
    "# List of tuples 1: print all elements of list of tuples\n",
    "# Here we have used Tuple Unpacking\n",
    "li=[('sumit',24),('dd',98),('pk',12)]\n",
    "print li\n",
    "print 'Length of List',len(li)\n",
    "print 'Length of first element of List i.e Tuple',len(li[0])\n",
    "print li[1]\n",
    "print li[0][1]\n",
    "print '---Access each element of list of tuples---'\n",
    "for item in range(len(li)):\n",
    "    (a,b)=li[item] \n",
    "    # first right side will be replaced with li[item] e.g. ('dd',98)\n",
    "    # (a,b)=('dd',98)\n",
    "    print a \n",
    "    print b\n",
    "print li"
   ]
  },
  {
   "cell_type": "code",
   "execution_count": 60,
   "metadata": {
    "collapsed": false,
    "deletable": true,
    "editable": true,
    "slideshow": {
     "slide_type": "slide"
    }
   },
   "outputs": [
    {
     "name": "stdout",
     "output_type": "stream",
     "text": [
      "[('sumit', 24), ('dd', 98), ('pk', 12)]\n",
      "---Change the value of 1st tuple of list---\n",
      "[('sumit', 24), (19, 20), ('pk', 12)]\n"
     ]
    }
   ],
   "source": [
    "# List of tuples 2: Change specific tuple value \n",
    "# Here we have used Tuple Unpacking (a,b)=(19,20)\n",
    "li=[('sumit',24),('dd',98),('pk',12)]\n",
    "print li\n",
    "print '---Change the value of 1st tuple of list---'\n",
    "for item in range(len(li)):\n",
    "    if item==1:    # If list index is 1 -> replace tuple elements\n",
    "        li[item]=(19,20) # replace tulple value at index 1 of list\n",
    "print li"
   ]
  },
  {
   "cell_type": "code",
   "execution_count": 61,
   "metadata": {
    "collapsed": false,
    "deletable": true,
    "editable": true,
    "slideshow": {
     "slide_type": "slide"
    }
   },
   "outputs": [
    {
     "name": "stdout",
     "output_type": "stream",
     "text": [
      "[('sumit', 24), ('dd', 98, 'demo'), ('pk',)]\n",
      "---Change the value of all tuples---\n",
      "[(0, 1), (0, 1, 2), (0,)]\n"
     ]
    }
   ],
   "source": [
    "# List of tuples 3: replace all the elements of tuple based on tuple length at runtime\n",
    "# Here we have used Tuple Unpacking (a,b)=(19,20)\n",
    "li=[('sumit',24),('dd',98,'demo'),('pk',)]\n",
    "print li\n",
    "print '---Change the value of all tuples---'\n",
    "for item in range(len(li)):\n",
    "    lenoftuple=len(li[item]) # Calculates length of tuple\n",
    "    li[item]=tuple(range(lenoftuple)) \n",
    "    #Above line: based on length of tuple it generates a list which will be converted to tuple.\n",
    "    # Done for Tuple Unpcaking purpose\n",
    "print li"
   ]
  },
  {
   "cell_type": "code",
   "execution_count": 34,
   "metadata": {
    "collapsed": false,
    "scrolled": true,
    "slideshow": {
     "slide_type": "slide"
    }
   },
   "outputs": [
    {
     "name": "stdout",
     "output_type": "stream",
     "text": [
      "()\n",
      "0\n",
      "140577721520208\n",
      "<type 'tuple'>\n"
     ]
    },
    {
     "ename": "IndexError",
     "evalue": "tuple index out of range",
     "output_type": "error",
     "traceback": [
      "\u001b[0;31m---------------------------------------------------------------------------\u001b[0m",
      "\u001b[0;31mIndexError\u001b[0m                                Traceback (most recent call last)",
      "\u001b[0;32m<ipython-input-34-e05ea5e66865>\u001b[0m in \u001b[0;36m<module>\u001b[0;34m()\u001b[0m\n\u001b[1;32m      5\u001b[0m \u001b[0;32mprint\u001b[0m \u001b[0mid\u001b[0m\u001b[0;34m(\u001b[0m\u001b[0mtt\u001b[0m\u001b[0;34m)\u001b[0m\u001b[0;34m\u001b[0m\u001b[0m\n\u001b[1;32m      6\u001b[0m \u001b[0;32mprint\u001b[0m \u001b[0mtype\u001b[0m\u001b[0;34m(\u001b[0m\u001b[0mtt\u001b[0m\u001b[0;34m)\u001b[0m\u001b[0;34m\u001b[0m\u001b[0m\n\u001b[0;32m----> 7\u001b[0;31m \u001b[0;32mprint\u001b[0m \u001b[0mtt\u001b[0m\u001b[0;34m[\u001b[0m\u001b[0;36m0\u001b[0m\u001b[0;34m]\u001b[0m \u001b[0;31m# throws an error: IndexOutOfRange\u001b[0m\u001b[0;34m\u001b[0m\u001b[0m\n\u001b[0m",
      "\u001b[0;31mIndexError\u001b[0m: tuple index out of range"
     ]
    }
   ],
   "source": [
    "# declare an empty tuple\n",
    "tt=()\n",
    "print tt\n",
    "print len(tt)\n",
    "print id(tt)\n",
    "print type(tt)\n",
    "print tt[0] # throws an error: IndexOutOfRange"
   ]
  },
  {
   "cell_type": "code",
   "execution_count": 35,
   "metadata": {
    "collapsed": false
   },
   "outputs": [
    {
     "name": "stdout",
     "output_type": "stream",
     "text": [
      "1\n",
      "<type 'int'>\n"
     ]
    }
   ],
   "source": [
    "# Declare a tuple with one value : 1\n",
    "# \n",
    "tupone=(1)\n",
    "print tupone\n",
    "print type(tupone) # this code creates integer it does not create tuple"
   ]
  },
  {
   "cell_type": "code",
   "execution_count": 37,
   "metadata": {
    "collapsed": false
   },
   "outputs": [
    {
     "name": "stdout",
     "output_type": "stream",
     "text": [
      "(1,)\n",
      "<type 'tuple'>\n"
     ]
    }
   ],
   "source": [
    "# Declare a tuple with one value : 2\n",
    "tupt=(1,) # size-1 tuple\n",
    "print tupt\n",
    "print type(tupt)"
   ]
  },
  {
   "cell_type": "markdown",
   "metadata": {},
   "source": [
    "### Note:  Here the comma is necessary to distinguish the tuple from the ordinary case of putting an expression in parentheses. "
   ]
  },
  {
   "cell_type": "markdown",
   "metadata": {},
   "source": [
    "<a id=\"section38\"></a>"
   ]
  },
  {
   "cell_type": "code",
   "execution_count": 38,
   "metadata": {
    "collapsed": false
   },
   "outputs": [
    {
     "name": "stdout",
     "output_type": "stream",
     "text": [
      "['xanadu', 'xyz', 'aardvark', 'apple', 'mix']\n"
     ]
    }
   ],
   "source": [
    "# Exercise: Version1\n",
    "# Given a list of strings, return a list with the strings\n",
    "# in sorted order, except group all the strings that begin with 'x' first.\n",
    "# e.g. ['mix', 'xyz', 'apple', 'xanadu', 'aardvark'] yields\n",
    "# ['xanadu', 'xyz', 'aardvark', 'apple', 'mix']\n",
    "\n",
    "def front_x(words):\n",
    "  a1=[]\n",
    "  a2=[]\n",
    "  for i in range(len(words)):\n",
    "    if words[i][0]=='x':\n",
    "       a1.append(words[i])\n",
    "    else:\n",
    "       a2.append(words[i])\n",
    "  a1=sorted(a1)\n",
    "  a2=sorted(a2)\n",
    "  return a1+a2 \n",
    "\n",
    "newl=front_x(['mix', 'xyz', 'apple', 'xanadu', 'aardvark'])\n",
    "print newl"
   ]
  },
  {
   "cell_type": "code",
   "execution_count": 45,
   "metadata": {
    "collapsed": false
   },
   "outputs": [
    {
     "name": "stdout",
     "output_type": "stream",
     "text": [
      "[(2, 2), (1, 3), (3, 4, 5), (1, 7)]\n"
     ]
    }
   ],
   "source": [
    "# Exercise 2:  sort_last\n",
    "# Given a list of non-empty tuples, return a list sorted in increasing\n",
    "# order by the last element in each tuple.\n",
    "# e.g. [(1, 7), (1, 3), (3, 4, 5), (2, 2)] yields\n",
    "# [(2, 2), (1, 3), (3, 4, 5), (1, 7)]\n",
    "\n",
    "# below func extracts last element from each tuple\n",
    "def last(tt):\n",
    "    return tt[-1]\n",
    "def sort_last(tuples):\n",
    "    return sorted(tuples,key=last)\n",
    "     \n",
    "print sort_last([(1, 7), (1, 3), (3, 4, 5), (2, 2)])"
   ]
  },
  {
   "cell_type": "markdown",
   "metadata": {},
   "source": [
    "[A link to section 38](#section38)\n"
   ]
  },
  {
   "cell_type": "code",
   "execution_count": null,
   "metadata": {
    "collapsed": true
   },
   "outputs": [],
   "source": []
  }
 ],
 "metadata": {
  "kernelspec": {
   "display_name": "Python 2",
   "language": "python",
   "name": "python2"
  },
  "language_info": {
   "codemirror_mode": {
    "name": "ipython",
    "version": 2
   },
   "file_extension": ".py",
   "mimetype": "text/x-python",
   "name": "python",
   "nbconvert_exporter": "python",
   "pygments_lexer": "ipython2",
   "version": "2.7.6"
  }
 },
 "nbformat": 4,
 "nbformat_minor": 2
}

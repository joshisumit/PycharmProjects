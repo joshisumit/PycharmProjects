{
 "cells": [
  {
   "cell_type": "code",
   "execution_count": 1,
   "metadata": {
    "collapsed": false,
    "deletable": true,
    "editable": true
   },
   "outputs": [
    {
     "name": "stdout",
     "output_type": "stream",
     "text": [
      "{}\n",
      "0\n",
      "<type 'dict'>\n",
      "140717827116120\n"
     ]
    }
   ],
   "source": [
    "# Python Dictionary\n",
    "d={}\n",
    "print d\n",
    "print len(d)\n",
    "print type(d)\n",
    "print id(d)"
   ]
  },
  {
   "cell_type": "code",
   "execution_count": 2,
   "metadata": {
    "collapsed": false,
    "deletable": true,
    "editable": true
   },
   "outputs": [
    {
     "name": "stdout",
     "output_type": "stream",
     "text": [
      "{'a': 'alpha'}\n",
      "1\n"
     ]
    }
   ],
   "source": [
    "d['a']='alpha'\n",
    "print d\n",
    "print len(d)"
   ]
  },
  {
   "cell_type": "code",
   "execution_count": 3,
   "metadata": {
    "collapsed": false,
    "deletable": true,
    "editable": true
   },
   "outputs": [
    {
     "name": "stdout",
     "output_type": "stream",
     "text": [
      "{'a': 'alpha', 'b': 'beta', 'sumit': 'U14W'}\n",
      "3\n"
     ]
    }
   ],
   "source": [
    "d['b']='beta'\n",
    "d['sumit']='U14W'\n",
    "print d\n",
    "print len(d)"
   ]
  },
  {
   "cell_type": "code",
   "execution_count": 7,
   "metadata": {
    "collapsed": false,
    "deletable": true,
    "editable": true
   },
   "outputs": [
    {
     "name": "stdout",
     "output_type": "stream",
     "text": [
      "alpha\n",
      "beta\n",
      "U14W\n",
      "srj\n",
      "{'a': 'alpha', 0: 'srj', 'b': 'beta', 'sumit': 'U14W'}\n"
     ]
    }
   ],
   "source": [
    "# Access dictionary content\n",
    "print d['a']\n",
    "print d['b']\n",
    "print d['sumit']\n",
    "d[0]='srj' # Key can be integer it's not necessary that key name should be string\n",
    "print d[0] # Here we are accessing dict[key]-d[0]\n",
    "print d"
   ]
  },
  {
   "cell_type": "markdown",
   "metadata": {
    "collapsed": true,
    "deletable": true,
    "editable": true
   },
   "source": [
    "* Dictionaries are very fast in keylookup.\n",
    "* Even if u have 10 million keys in dict...It can easily lookup the key in that dict"
   ]
  },
  {
   "cell_type": "code",
   "execution_count": 8,
   "metadata": {
    "collapsed": false
   },
   "outputs": [
    {
     "ename": "KeyError",
     "evalue": "'x'",
     "output_type": "error",
     "traceback": [
      "\u001b[0;31m---------------------------------------------------------------------------\u001b[0m",
      "\u001b[0;31mKeyError\u001b[0m                                  Traceback (most recent call last)",
      "\u001b[0;32m<ipython-input-8-48bab8da4d16>\u001b[0m in \u001b[0;36m<module>\u001b[0;34m()\u001b[0m\n\u001b[1;32m      1\u001b[0m \u001b[0;31m# On accessing key, that does not exist in Dict....Python throws error\u001b[0m\u001b[0;34m\u001b[0m\u001b[0;34m\u001b[0m\u001b[0m\n\u001b[0;32m----> 2\u001b[0;31m \u001b[0;32mprint\u001b[0m \u001b[0md\u001b[0m\u001b[0;34m[\u001b[0m\u001b[0;34m'x'\u001b[0m\u001b[0;34m]\u001b[0m\u001b[0;34m\u001b[0m\u001b[0m\n\u001b[0m",
      "\u001b[0;31mKeyError\u001b[0m: 'x'"
     ]
    }
   ],
   "source": [
    "# On accessing key, that does not exist in Dict....Python throws error: KeyError\n",
    "print d['x']"
   ]
  },
  {
   "cell_type": "code",
   "execution_count": 18,
   "metadata": {
    "collapsed": false
   },
   "outputs": [
    {
     "name": "stdout",
     "output_type": "stream",
     "text": [
      "alpha\n",
      "None\n"
     ]
    }
   ],
   "source": [
    "# dict.get(key) --> If Key Exist it returns the key value\n",
    "print d.get('a')\n",
    "print d.get('x') # If Key doesn't exist it does not throw error...Just returns None(Will not throw error)"
   ]
  },
  {
   "cell_type": "code",
   "execution_count": 17,
   "metadata": {
    "collapsed": false
   },
   "outputs": [
    {
     "name": "stdout",
     "output_type": "stream",
     "text": [
      "That Key does not exist...Please try with Valid Key\n"
     ]
    }
   ],
   "source": [
    "if d.get('x')==None:\n",
    "    print 'That Key does not exist...Please try with Valid Key'\n",
    "else:\n",
    "    print 'Bingo'"
   ]
  },
  {
   "cell_type": "code",
   "execution_count": 25,
   "metadata": {
    "collapsed": false
   },
   "outputs": [
    {
     "name": "stdout",
     "output_type": "stream",
     "text": [
      "False\n",
      "True\n",
      "False\n"
     ]
    }
   ],
   "source": [
    "# How to check if key exist in dictionary\n",
    "print 'alpha' in d\n",
    "print 'sumit' in d\n",
    "print 'x' in d"
   ]
  },
  {
   "cell_type": "code",
   "execution_count": 28,
   "metadata": {
    "collapsed": false
   },
   "outputs": [
    {
     "name": "stdout",
     "output_type": "stream",
     "text": [
      "['a', 0, 'b', 'sumit']\n",
      "[0, 'a', 'b', 'sumit']\n"
     ]
    }
   ],
   "source": [
    "print d.keys() # Returns list of Keys...in random order\n",
    "print sorted(d.keys())"
   ]
  },
  {
   "cell_type": "code",
   "execution_count": 27,
   "metadata": {
    "collapsed": false
   },
   "outputs": [
    {
     "name": "stdout",
     "output_type": "stream",
     "text": [
      "['alpha', 'srj', 'beta', 'U14W']\n"
     ]
    }
   ],
   "source": [
    "print d.values()"
   ]
  },
  {
   "cell_type": "code",
   "execution_count": 31,
   "metadata": {
    "collapsed": false
   },
   "outputs": [
    {
     "name": "stdout",
     "output_type": "stream",
     "text": [
      "key:  0 -> srj\n",
      "key:  a -> alpha\n",
      "key:  b -> beta\n",
      "key:  sumit -> U14W\n"
     ]
    }
   ],
   "source": [
    "# Iterate over keys from the dictionary\n",
    "for k in sorted(d.keys()):\n",
    "    print 'key: ',k,'->',d[k]"
   ]
  },
  {
   "cell_type": "code",
   "execution_count": 37,
   "metadata": {
    "collapsed": false
   },
   "outputs": [
    {
     "name": "stdout",
     "output_type": "stream",
     "text": [
      "[(0, 'srj'), ('a', 'alpha'), ('b', 'beta'), ('sumit', 'U14W')]\n",
      "----------\n",
      "('a', 'alpha')\n",
      "(0, 'srj')\n",
      "('b', 'beta')\n",
      "('sumit', 'U14W')\n"
     ]
    }
   ],
   "source": [
    "# dict.items() -> dict expressed as (key, value) tuples -List of tuples where tuples are (key,value)\n",
    "print sorted(d.items())\n",
    "print '-'*10\n",
    "# Get all the dict data in one Go\n",
    "for tuple in d.items():\n",
    "    print tuple"
   ]
  },
  {
   "cell_type": "code",
   "execution_count": 41,
   "metadata": {
    "collapsed": false
   },
   "outputs": [
    {
     "name": "stdout",
     "output_type": "stream",
     "text": [
      "12\n",
      "98\n"
     ]
    }
   ],
   "source": [
    "# When to use dict\n",
    "# 1) From Random data get some menaingful data\n",
    "# 2) The dictionary takes in scattered data and makes it into something coherent.\n",
    "# 3) if you use the word \"map\" (or \"match\"), chances are good you need a dictionary. Use whenever a mapping from a key to a value is required.\n",
    "print d['a']\n"
   ]
  },
  {
   "cell_type": "code",
   "execution_count": 42,
   "metadata": {
    "collapsed": false
   },
   "outputs": [
    {
     "name": "stdout",
     "output_type": "stream",
     "text": [
      "98\n",
      "98\n"
     ]
    }
   ],
   "source": [
    "# Dictionaries are mutable Objects\n",
    "print d['a']\n",
    "d['a']=98\n",
    "print d['a']"
   ]
  },
  {
   "cell_type": "code",
   "execution_count": 44,
   "metadata": {
    "collapsed": false
   },
   "outputs": [],
   "source": [
    "d['ss']=0"
   ]
  },
  {
   "cell_type": "code",
   "execution_count": 45,
   "metadata": {
    "collapsed": false
   },
   "outputs": [
    {
     "name": "stdout",
     "output_type": "stream",
     "text": [
      "{'a': 98, 0: 'srj', 'b': 'beta', 'ss': 0, 'sumit': 'U14W'}\n"
     ]
    }
   ],
   "source": [
    "print d\n"
   ]
  },
  {
   "cell_type": "code",
   "execution_count": 48,
   "metadata": {
    "collapsed": false
   },
   "outputs": [
    {
     "name": "stdout",
     "output_type": "stream",
     "text": [
      "{'a': 98, 0: 'srj', 'b': 'beta', 'ss': 0, 'sumit': 'U14W'}\n",
      " Hey U14W, Can you please pick up 0 Fruits\n"
     ]
    }
   ],
   "source": [
    "# Dict formatting\n",
    "# The % operator works conveniently to substitute values from a dict into a string by name:\n",
    "print d\n",
    "\n",
    "# Dict key name  %(key)s or %(key)d\n",
    "print ' Hey %(sumit)s, Can you please pick up %(ss)d Fruits'%d"
   ]
  },
  {
   "cell_type": "code",
   "execution_count": 50,
   "metadata": {
    "collapsed": false
   },
   "outputs": [
    {
     "name": "stdout",
     "output_type": "stream",
     "text": [
      "6\n"
     ]
    },
    {
     "ename": "NameError",
     "evalue": "name 'var' is not defined",
     "output_type": "error",
     "traceback": [
      "\u001b[0;31m---------------------------------------------------------------------------\u001b[0m",
      "\u001b[0;31mNameError\u001b[0m                                 Traceback (most recent call last)",
      "\u001b[0;32m<ipython-input-50-08ef19dfc602>\u001b[0m in \u001b[0;36m<module>\u001b[0;34m()\u001b[0m\n\u001b[1;32m      3\u001b[0m \u001b[0;32mprint\u001b[0m \u001b[0mvar\u001b[0m\u001b[0;34m\u001b[0m\u001b[0m\n\u001b[1;32m      4\u001b[0m \u001b[0;32mdel\u001b[0m \u001b[0mvar\u001b[0m \u001b[0;31m# deletes var from local scope\u001b[0m\u001b[0;34m\u001b[0m\u001b[0m\n\u001b[0;32m----> 5\u001b[0;31m \u001b[0;32mprint\u001b[0m \u001b[0mvar\u001b[0m \u001b[0;31m# throws an error\u001b[0m\u001b[0;34m\u001b[0m\u001b[0m\n\u001b[0m",
      "\u001b[0;31mNameError\u001b[0m: name 'var' is not defined"
     ]
    }
   ],
   "source": [
    "# Del Operator for variables: It can remove the definition of a variable, as if that variable had not been defined\n",
    "var=6\n",
    "print var\n",
    "del var # deletes var from local scope\n",
    "print var # throws an error"
   ]
  },
  {
   "cell_type": "code",
   "execution_count": 51,
   "metadata": {
    "collapsed": false
   },
   "outputs": [
    {
     "name": "stdout",
     "output_type": "stream",
     "text": [
      "['a', 'b', 'c', 'd', 'e', 'f', 'g']\n",
      "['a', 'c', 'd', 'e', 'f', 'g']\n",
      "['a', 'c', 'd', 'e']\n",
      "----------\n"
     ]
    }
   ],
   "source": [
    "# Del operator for list: \n",
    "list=['a','b','c','d','e','f','g']\n",
    "print list\n",
    "del list[1]\n",
    "print list\n",
    "del list[-2:] # Delete last 2 elements\n",
    "print list\n",
    "\n",
    "print '-'*10"
   ]
  },
  {
   "cell_type": "code",
   "execution_count": 52,
   "metadata": {
    "collapsed": false
   },
   "outputs": [
    {
     "name": "stdout",
     "output_type": "stream",
     "text": [
      "<type 'list'>\n"
     ]
    }
   ],
   "source": [
    "del list\n",
    "print list"
   ]
  },
  {
   "cell_type": "code",
   "execution_count": 54,
   "metadata": {
    "collapsed": false
   },
   "outputs": [
    {
     "name": "stdout",
     "output_type": "stream",
     "text": [
      "{'a': 1, 'c': 3, 'b': 2}\n",
      "{'a': 1, 'c': 3}\n"
     ]
    }
   ],
   "source": [
    "dic = {'a':1, 'b':2, 'c':3}\n",
    "print dic\n",
    "del dic['b']\n",
    "print dic"
   ]
  },
  {
   "cell_type": "code",
   "execution_count": 55,
   "metadata": {
    "collapsed": false
   },
   "outputs": [
    {
     "ename": "NameError",
     "evalue": "name 'dic' is not defined",
     "output_type": "error",
     "traceback": [
      "\u001b[0;31m---------------------------------------------------------------------------\u001b[0m",
      "\u001b[0;31mNameError\u001b[0m                                 Traceback (most recent call last)",
      "\u001b[0;32m<ipython-input-55-37c4efa358f3>\u001b[0m in \u001b[0;36m<module>\u001b[0;34m()\u001b[0m\n\u001b[1;32m      1\u001b[0m \u001b[0;32mdel\u001b[0m \u001b[0mdic\u001b[0m\u001b[0;34m\u001b[0m\u001b[0m\n\u001b[0;32m----> 2\u001b[0;31m \u001b[0;32mprint\u001b[0m \u001b[0mdic\u001b[0m\u001b[0;34m\u001b[0m\u001b[0m\n\u001b[0m",
      "\u001b[0;31mNameError\u001b[0m: name 'dic' is not defined"
     ]
    }
   ],
   "source": [
    "del dic # Deletes the dictionary\n",
    "print dic"
   ]
  },
  {
   "cell_type": "code",
   "execution_count": null,
   "metadata": {
    "collapsed": true
   },
   "outputs": [],
   "source": []
  }
 ],
 "metadata": {
  "kernelspec": {
   "display_name": "Python 2",
   "language": "python",
   "name": "python2"
  },
  "language_info": {
   "codemirror_mode": {
    "name": "ipython",
    "version": 2
   },
   "file_extension": ".py",
   "mimetype": "text/x-python",
   "name": "python",
   "nbconvert_exporter": "python",
   "pygments_lexer": "ipython2",
   "version": "2.7.6"
  }
 },
 "nbformat": 4,
 "nbformat_minor": 2
}

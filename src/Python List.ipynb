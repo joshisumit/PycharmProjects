{
 "cells": [
  {
   "cell_type": "code",
   "execution_count": 1,
   "metadata": {
    "collapsed": false
   },
   "outputs": [
    {
     "name": "stdout",
     "output_type": "stream",
     "text": [
      "[1, 3, 4]\n",
      "<type 'list'>\n",
      "3\n"
     ]
    }
   ],
   "source": [
    "a=[1,3,4]\n",
    "print a\n",
    "print type(a)\n",
    "print len(a) # Same len function can be used with string,tuples etc."
   ]
  },
  {
   "cell_type": "code",
   "execution_count": 6,
   "metadata": {
    "collapsed": false
   },
   "outputs": [
    {
     "name": "stdout",
     "output_type": "stream",
     "text": [
      "[1, 3, 4, 1, 2]\n",
      "[1, 3, 4]\n",
      "[1, 3, 4, 90, 1]\n",
      "[1, 3, 4, 90, 'sum']\n"
     ]
    }
   ],
   "source": [
    "# List concatenation & Mutable Test(Unlike Strings,tuples Lists are not mutable Objects)\n",
    "# Which means we can change them\n",
    "a=[1,3,4]\n",
    "print a+[1,2]\n",
    "print a\n",
    "a=a+[90,1]\n",
    "print a\n",
    "\n",
    "# Change element number 4 (this is not possible in string)\n",
    "a[4]='sum'\n",
    "print a"
   ]
  },
  {
   "cell_type": "code",
   "execution_count": 12,
   "metadata": {
    "collapsed": false
   },
   "outputs": [
    {
     "name": "stdout",
     "output_type": "stream",
     "text": [
      "[12, 'sumit', 43]\n",
      "140206010364632\n",
      "[12, 'sumit', 43]\n",
      "140206010364632\n",
      "['pro', 'sumit', 43]\n",
      "['pro', 'sumit', 43]\n",
      "['jj', 'sumit', 43]\n",
      "['jj', 'sumit', 43]\n"
     ]
    }
   ],
   "source": [
    "# Assignment with an = on lists does not make a copy. \n",
    "# Instead, assignment makes the two variables point to the one list in memory.\n",
    "a=[12,'sumit',43]\n",
    "print a\n",
    "\n",
    "# Memory address of a\n",
    "print id(a)\n",
    "\n",
    "# Assign a to b. It does not copy.\n",
    "b=a\n",
    "print b\n",
    "print id(b) # b also points to the same memory address. Python is not creating new object\n",
    "\n",
    "# change some list value and it will be reflected in both a and b.\n",
    "a[0]='pro'\n",
    "\n",
    "# This shows both points to same memory location\n",
    "print a\n",
    "print b\n",
    "\n",
    "b[0]='jj'\n",
    "\n",
    "print a\n",
    "print b # this happens because both a and b both are pointing to same memory location"
   ]
  },
  {
   "cell_type": "code",
   "execution_count": 9,
   "metadata": {
    "collapsed": false
   },
   "outputs": [
    {
     "name": "stdout",
     "output_type": "stream",
     "text": [
      "sumit\n",
      "140206001142688\n",
      "sumit\n",
      "140206001142688\n"
     ]
    }
   ],
   "source": [
    "# Assignment behavior for string\n",
    "a='sumit'\n",
    "print a\n",
    "print id(a)\n",
    "b=a\n",
    "print b\n",
    "print id(b)\n"
   ]
  },
  {
   "cell_type": "code",
   "execution_count": 18,
   "metadata": {
    "collapsed": false
   },
   "outputs": [
    {
     "name": "stdout",
     "output_type": "stream",
     "text": [
      "[12, 'sumit', 43]\n",
      "140206010365424\n",
      "[12, 'sumit', 43]\n",
      "[12, 'sumit', 43]\n",
      "140206010365424\n",
      "[12, 'sumit', 43]\n",
      "140206001161208\n",
      "List a is [12, 'sumit', 43]\n",
      "List c is  ['sasa', 'sumit', 43]\n"
     ]
    }
   ],
   "source": [
    "# Copy a list (Pythonic way is using slicing [:])\n",
    "a=[12,'sumit',43]\n",
    "print a\n",
    "print id(a)\n",
    "print a[:]\n",
    "b=a\n",
    "print b\n",
    "print id(b)\n",
    "c=a[:]\n",
    "print c\n",
    "print id(c)\n",
    "\n",
    "# Changing element of list c does not change anything in a....as 'a' and 'c' both are on different mem locations\n",
    "c[0]='sasa'\n",
    "print 'List a is',a\n",
    "print 'List c is ',c"
   ]
  },
  {
   "cell_type": "code",
   "execution_count": 23,
   "metadata": {
    "collapsed": false
   },
   "outputs": [
    {
     "name": "stdout",
     "output_type": "stream",
     "text": [
      "96\n"
     ]
    }
   ],
   "source": [
    "# Get the size of object in memory\n",
    "import sys\n",
    "\n",
    "print sys.getsizeof(c)\n"
   ]
  },
  {
   "cell_type": "code",
   "execution_count": 26,
   "metadata": {
    "collapsed": false
   },
   "outputs": [
    {
     "name": "stdout",
     "output_type": "stream",
     "text": [
      "False\n",
      "True\n"
     ]
    }
   ],
   "source": [
    "# Compare two lists\n",
    "print a==c\n",
    "print a==b"
   ]
  },
  {
   "cell_type": "code",
   "execution_count": 41,
   "metadata": {
    "collapsed": false
   },
   "outputs": [
    {
     "name": "stdout",
     "output_type": "stream",
     "text": [
      "[34, 5]\n",
      "sumit\n",
      "[5, 65, 98, 55]\n",
      "New List [1, 2, 43, 45]\n",
      "['z', 43, 45]\n"
     ]
    }
   ],
   "source": [
    "# List Slices\n",
    "li=[12,34,5,65,98,55,'sumit']\n",
    "print li[1:3]\n",
    "print li[-1]\n",
    "print li[2:-1]\n",
    "\n",
    "newl=[1,2,43,45]\n",
    "print 'New List',newl\n",
    "newl[0:2]='z'\n",
    "print newl"
   ]
  },
  {
   "cell_type": "code",
   "execution_count": 31,
   "metadata": {
    "collapsed": false
   },
   "outputs": [
    {
     "name": "stdout",
     "output_type": "stream",
     "text": [
      "[12, 34, 5, 65, 98, 55, 'sumit']\n",
      "12\n",
      "34\n",
      "5\n",
      "65\n",
      "98\n",
      "55\n",
      "sumit\n"
     ]
    }
   ],
   "source": [
    "# Iterate List with for in syntax\n",
    "print li\n",
    "\n",
    "for num in li:\n",
    "    print num\n",
    "\n",
    "    "
   ]
  },
  {
   "cell_type": "code",
   "execution_count": 33,
   "metadata": {
    "collapsed": false
   },
   "outputs": [
    {
     "data": {
      "text/plain": [
       "[0,\n",
       " 2,\n",
       " 4,\n",
       " 6,\n",
       " 8,\n",
       " 10,\n",
       " 12,\n",
       " 14,\n",
       " 16,\n",
       " 18,\n",
       " 20,\n",
       " 22,\n",
       " 24,\n",
       " 26,\n",
       " 28,\n",
       " 30,\n",
       " 32,\n",
       " 34,\n",
       " 36,\n",
       " 38,\n",
       " 40,\n",
       " 42,\n",
       " 44,\n",
       " 46,\n",
       " 48]"
      ]
     },
     "execution_count": 33,
     "metadata": {},
     "output_type": "execute_result"
    }
   ],
   "source": [
    "# range()  range(a, b) returns a, a+1, ... b-1 -- up to but not including the last number.\n",
    "range(0,50,2)\n"
   ]
  },
  {
   "cell_type": "code",
   "execution_count": 42,
   "metadata": {
    "collapsed": false
   },
   "outputs": [
    {
     "name": "stdout",
     "output_type": "stream",
     "text": [
      "0\n",
      "1\n",
      "2\n",
      "3\n",
      "4\n",
      "5\n",
      "6\n",
      "7\n",
      "8\n",
      "9\n"
     ]
    }
   ],
   "source": [
    "# range() with for \n",
    "for num in range(0,10):\n",
    "    print num"
   ]
  },
  {
   "cell_type": "code",
   "execution_count": 37,
   "metadata": {
    "collapsed": false
   },
   "outputs": [
    {
     "name": "stdout",
     "output_type": "stream",
     "text": [
      "True\n",
      "True\n",
      "False\n",
      "Yay!!\n"
     ]
    }
   ],
   "source": [
    "# find list element with:    'String' in 'List' --> Returns True/False\n",
    "print 'sumit' in li\n",
    "print 34 in li\n",
    "print 9998 in li\n",
    "if 'sumit' in li:\n",
    "    print 'Yay!!'"
   ]
  },
  {
   "cell_type": "code",
   "execution_count": 49,
   "metadata": {
    "collapsed": false
   },
   "outputs": [
    {
     "name": "stdout",
     "output_type": "stream",
     "text": [
      "[]\n",
      "140206001160560\n",
      "0\n",
      "72\n",
      "-----\n",
      "None\n",
      "Actual List after append() [1]\n",
      "140206001160560\n",
      "1\n",
      "104\n"
     ]
    }
   ],
   "source": [
    "# Declare Empty List\n",
    "import sys\n",
    "nl=[] # Empty List\n",
    "print nl \n",
    "print id(nl) # Memory locations of empty object\n",
    "print len(nl) # Length\n",
    "print sys.getsizeof(nl)\n",
    "print '-'*5\n",
    "dd=nl.append(1) # this method modifies original list and returns None\n",
    "print dd\n",
    "print 'Actual List after append()',nl\n",
    "print id(nl) # Memory locations of list\n",
    "print len(nl) # Length\n",
    "print sys.getsizeof(nl)"
   ]
  },
  {
   "cell_type": "code",
   "execution_count": 52,
   "metadata": {
    "collapsed": false
   },
   "outputs": [
    {
     "name": "stdout",
     "output_type": "stream",
     "text": [
      "None\n",
      "[1, 2, 'sumit']\n"
     ]
    }
   ],
   "source": [
    "# List Methods- append()\n",
    "# Append elements at the end\n",
    "ne=[1,2]\n",
    "print ne.append('sumit')  # As append() doesn't return the modified list we need to print original list\n",
    "print ne"
   ]
  },
  {
   "cell_type": "code",
   "execution_count": null,
   "metadata": {
    "collapsed": true
   },
   "outputs": [],
   "source": []
  }
 ],
 "metadata": {
  "kernelspec": {
   "display_name": "Python 2",
   "language": "python",
   "name": "python2"
  },
  "language_info": {
   "codemirror_mode": {
    "name": "ipython",
    "version": 2
   },
   "file_extension": ".py",
   "mimetype": "text/x-python",
   "name": "python",
   "nbconvert_exporter": "python",
   "pygments_lexer": "ipython2",
   "version": "2.7.6"
  }
 },
 "nbformat": 4,
 "nbformat_minor": 2
}

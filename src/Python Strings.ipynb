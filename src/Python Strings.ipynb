{
 "cells": [
  {
   "cell_type": "code",
   "execution_count": 3,
   "metadata": {
    "collapsed": false
   },
   "outputs": [
    {
     "ename": "NameError",
     "evalue": "name 'a' is not defined",
     "output_type": "error",
     "traceback": [
      "\u001b[0;31m\u001b[0m",
      "\u001b[0;31mNameError\u001b[0mTraceback (most recent call last)",
      "\u001b[0;32m<ipython-input-3-60b725f10c9c>\u001b[0m in \u001b[0;36m<module>\u001b[0;34m()\u001b[0m\n\u001b[0;32m----> 1\u001b[0;31m \u001b[0ma\u001b[0m\u001b[0;34m\u001b[0m\u001b[0m\n\u001b[0m",
      "\u001b[0;31mNameError\u001b[0m: name 'a' is not defined"
     ]
    }
   ],
   "source": [
    "# No need to declare variable just assign the value and start using it(Unlike other language)\n",
    "a"
   ]
  },
  {
   "cell_type": "code",
   "execution_count": 4,
   "metadata": {
    "collapsed": true
   },
   "outputs": [],
   "source": [
    "A='26'"
   ]
  },
  {
   "cell_type": "code",
   "execution_count": 5,
   "metadata": {
    "collapsed": false
   },
   "outputs": [
    {
     "data": {
      "text/plain": [
       "'26'"
      ]
     },
     "execution_count": 5,
     "metadata": {},
     "output_type": "execute_result"
    }
   ],
   "source": [
    "A"
   ]
  },
  {
   "cell_type": "code",
   "execution_count": 6,
   "metadata": {
    "collapsed": false
   },
   "outputs": [
    {
     "data": {
      "text/plain": [
       "str"
      ]
     },
     "execution_count": 6,
     "metadata": {},
     "output_type": "execute_result"
    }
   ],
   "source": [
    "type(A)\n"
   ]
  },
  {
   "cell_type": "code",
   "execution_count": 10,
   "metadata": {
    "collapsed": false
   },
   "outputs": [],
   "source": [
    "# Strings can be defined using single quote and double quote\n",
    "# Inside single quote, you can use double quote\n",
    "# Inside double quote, you can use single quote\n",
    "a='Hi'\n",
    "b=\"Demo\"\n",
    "c=\"isn't\"\n",
    "d='Famous Quote: \"Where there is a will there is a way\"'\n",
    "e=\"I \\\"love\\\" this excercise\" # Putting double quote inside double quote"
   ]
  },
  {
   "cell_type": "code",
   "execution_count": 11,
   "metadata": {
    "collapsed": false
   },
   "outputs": [
    {
     "name": "stdout",
     "output_type": "stream",
     "text": [
      "Hi\n",
      "Demo\n",
      "isn't\n",
      "Famous Quote: \"Where there is a will there is a way\"\n",
      "I \"love\" this excercise\n"
     ]
    }
   ],
   "source": [
    "print a\n",
    "print b\n",
    "print c\n",
    "print d\n",
    "print e"
   ]
  },
  {
   "cell_type": "code",
   "execution_count": 12,
   "metadata": {
    "collapsed": false
   },
   "outputs": [
    {
     "name": "stdout",
     "output_type": "stream",
     "text": [
      "2\n"
     ]
    }
   ],
   "source": [
    "print len(a)"
   ]
  },
  {
   "cell_type": "code",
   "execution_count": 13,
   "metadata": {
    "collapsed": false
   },
   "outputs": [
    {
     "name": "stdout",
     "output_type": "stream",
     "text": [
      "<built-in function len>\n"
     ]
    }
   ],
   "source": [
    "print len"
   ]
  },
  {
   "cell_type": "code",
   "execution_count": 17,
   "metadata": {
    "collapsed": false
   },
   "outputs": [
    {
     "name": "stdout",
     "output_type": "stream",
     "text": [
      "isn't\n",
      "isn'tyay!!!\n",
      "isn't\n",
      "isn'tsrj\n"
     ]
    }
   ],
   "source": [
    "# Strings are immutable Objects\n",
    "# Once string is created it never changes (Kind of Read Only Objects)\n",
    "a=\"isn't\"\n",
    "print a\n",
    "print a+'yay!!!'\n",
    "\n",
    "print a  # Even after concat operation orginal string remains the same\n",
    "a=a+'srj'\n",
    "print a\n"
   ]
  },
  {
   "cell_type": "code",
   "execution_count": 20,
   "metadata": {
    "collapsed": false
   },
   "outputs": [
    {
     "name": "stdout",
     "output_type": "stream",
     "text": [
      "hello\n",
      "HELLO\n",
      "yay\n",
      "YAY\n"
     ]
    }
   ],
   "source": [
    "A='HELLO'\n",
    "# Run lower() method on Object A. Basically methods can be accessed through the Object\n",
    "print A.lower() # lower() returns new String Object\n",
    "print A # Original strings remain unchanged\n",
    "b='YAY'\n",
    "print b.lower()\n",
    "print b"
   ]
  },
  {
   "cell_type": "code",
   "execution_count": 23,
   "metadata": {
    "collapsed": false
   },
   "outputs": [
    {
     "data": {
      "text/plain": [
       "3"
      ]
     },
     "execution_count": 23,
     "metadata": {},
     "output_type": "execute_result"
    }
   ],
   "source": [
    "# find method: It finds the first occurence of character in a string\n",
    "d='Hello'\n",
    "d.find('lo')"
   ]
  },
  {
   "cell_type": "code",
   "execution_count": 25,
   "metadata": {
    "collapsed": false
   },
   "outputs": [
    {
     "name": "stdout",
     "output_type": "stream",
     "text": [
      "H\n",
      "o\n",
      "t\n"
     ]
    }
   ],
   "source": [
    "# Access string with its index\n",
    "a='Hello Sumit'\n",
    "print a[0]\n",
    "print a[4]\n",
    "print a[-1]"
   ]
  },
  {
   "cell_type": "code",
   "execution_count": 27,
   "metadata": {
    "collapsed": false
   },
   "outputs": [
    {
     "name": "stdout",
     "output_type": "stream",
     "text": [
      "Hi Sumit I have 50 Rupees\n"
     ]
    }
   ],
   "source": [
    "# Formatter %d,%s\n",
    "# It acts as a placeholder(similar to C language printf)\n",
    "# It substitute the values in place of %d and %s\n",
    "print \"Hi %s I have %d Rupees\" %(\"Sumit\",50)"
   ]
  },
  {
   "cell_type": "code",
   "execution_count": 32,
   "metadata": {
    "collapsed": false
   },
   "outputs": [
    {
     "name": "stdout",
     "output_type": "stream",
     "text": [
      "el\n",
      "ello\n",
      "ello\n",
      "Hello\n"
     ]
    }
   ],
   "source": [
    "# Slicing 1\n",
    "# Refer to subpart of the string, using colon\n",
    "a='Hello'\n",
    "print a[1:3] #start at index 1 & Go upto 3 but not including index 3\n",
    "print a[1:5]\n",
    "print a[1:] # It just goes away with end of string\n",
    "print a[:] #No beginning and no ending, it just starts from beginning and goes away till end. Returns full string"
   ]
  },
  {
   "cell_type": "code",
   "execution_count": 48,
   "metadata": {
    "collapsed": false
   },
   "outputs": [
    {
     "name": "stdout",
     "output_type": "stream",
     "text": [
      "o\n",
      "5\n",
      "e\n",
      "H\n",
      "Hello\n",
      "o\n",
      "Hell\n",
      "ell\n",
      "llo\n",
      "He\n"
     ]
    }
   ],
   "source": [
    "# Slicing 2 (using negative index)\n",
    "# Accessing string from right side\n",
    "# H   e    l   l   o\n",
    "# -5  -4  -3  -2  -1\n",
    "a='Hello'\n",
    "print a[-1]\n",
    "print len(a)\n",
    "print a[-4]\n",
    "print a[-5]\n",
    "print a[-5:] # start from -5 (5th charcter from end) and follow till end\n",
    "print a[-1:] # start at -1 and follow till end\n",
    "print a[:-1] # start from begining follow upto -1 index\n",
    "print a[-4:-1]\n",
    "print a[-3:] \n",
    "print a[:-3]"
   ]
  },
  {
   "cell_type": "code",
   "execution_count": 54,
   "metadata": {
    "collapsed": false
   },
   "outputs": [
    {
     "name": "stdout",
     "output_type": "stream",
     "text": [
      "x\\t\\nx\n",
      "6\n",
      "x\t\n",
      "x\n",
      "4\n"
     ]
    }
   ],
   "source": [
    "# Raw String\n",
    "ra=r'x\\t\\nx' # It does not consider escape sequences\n",
    "print ra\n",
    "print len(ra) #len considers \\ t \\ n as single characters. len= x + \\ + t + \\ + n + x =6\n",
    "# Normal String\n",
    "nn='x\\t\\nx'\n",
    "print nn\n",
    "print len(nn) # Here len=x + \\t + \\n + x =4"
   ]
  },
  {
   "cell_type": "code",
   "execution_count": 56,
   "metadata": {
    "collapsed": false
   },
   "outputs": [
    {
     "name": "stdout",
     "output_type": "stream",
     "text": [
      "It was best of times.\n",
      "It was the worst of times\n"
     ]
    }
   ],
   "source": [
    "# Multiline string with \"\"\"\n",
    "print \"\"\"It was best of times.\n",
    "It was the worst of times\"\"\""
   ]
  },
  {
   "cell_type": "code",
   "execution_count": 58,
   "metadata": {
    "collapsed": false
   },
   "outputs": [
    {
     "name": "stdout",
     "output_type": "stream",
     "text": [
      "sumit\n",
      "SUMIT\n"
     ]
    }
   ],
   "source": [
    "s=\"SUMIT\"\n",
    "print s.lower()\n",
    "print s"
   ]
  },
  {
   "cell_type": "code",
   "execution_count": 59,
   "metadata": {
    "collapsed": false
   },
   "outputs": [
    {
     "name": "stdout",
     "output_type": "stream",
     "text": [
      "11\n"
     ]
    }
   ],
   "source": [
    "d='How is the day'\n",
    "print d.find('day')\n"
   ]
  },
  {
   "cell_type": "code",
   "execution_count": 63,
   "metadata": {
    "collapsed": false
   },
   "outputs": [
    {
     "name": "stdout",
     "output_type": "stream",
     "text": [
      "   this is is a string with whitespace    \n",
      "this is is a string with whitespace\n"
     ]
    }
   ],
   "source": [
    "f='   this is is a string with whitespace    '\n",
    "print f\n",
    "print f.strip()"
   ]
  },
  {
   "cell_type": "code",
   "execution_count": 73,
   "metadata": {
    "collapsed": false
   },
   "outputs": [
    {
     "name": "stdout",
     "output_type": "stream",
     "text": [
      "A unicode Ǝ string ñ\n",
      "this\\tis\\n string\n",
      "A unicode Ǝ string ñ\n",
      "A unicode Ǝ string ñ\n",
      "convert back to unicode\n",
      "A unicode Ǝ string ñ\n"
     ]
    },
    {
     "data": {
      "text/plain": [
       "True"
      ]
     },
     "execution_count": 73,
     "metadata": {},
     "output_type": "execute_result"
    }
   ],
   "source": [
    "# Unicode string\n",
    "ds=u'A unicode \\u018e string \\xf1'\n",
    "raws=r'this\\tis\\n string'\n",
    "print ds\n",
    "print raws\n",
    "# convert to \n",
    "s=ds.encode('utf-8')\n",
    "print s\n",
    "print ds\n",
    "\n",
    "# \n",
    "print 'convert back to unicode'\n",
    "t=unicode(s,'utf-8')\n",
    "print t\n",
    "\n",
    "t==ds"
   ]
  },
  {
   "cell_type": "code",
   "execution_count": 80,
   "metadata": {
    "collapsed": false
   },
   "outputs": [
    {
     "name": "stdout",
     "output_type": "stream",
     "text": [
      "license please\n",
      "Bye\n",
      "ok\n",
      "You are so busted\n"
     ]
    }
   ],
   "source": [
    "# Logical 'and' 'or '\n",
    "speed=120\n",
    "mood='terrible'\n",
    "if speed>100:\n",
    "    print 'license please'\n",
    "if mood=='terrible' or speed==100:\n",
    "    print 'Bye'\n",
    "if mood=='terrible' and speed==120:\n",
    "    print 'ok'\n",
    "# Below code will also work...Everything on same line\n",
    "if speed >=80: print 'You are so busted'\n",
    "else: print 'Havaa'"
   ]
  },
  {
   "cell_type": "code",
   "execution_count": 81,
   "metadata": {
    "collapsed": false
   },
   "outputs": [
    {
     "name": "stdout",
     "output_type": "stream",
     "text": [
      "jiranew\n",
      "jiraold\n"
     ]
    }
   ],
   "source": [
    "s='jiraold'\n",
    "print s.replace('old','new')\n",
    "print s"
   ]
  },
  {
   "cell_type": "code",
   "execution_count": 82,
   "metadata": {
    "collapsed": false
   },
   "outputs": [
    {
     "name": "stdout",
     "output_type": "stream",
     "text": [
      "j*oods**\n"
     ]
    }
   ],
   "source": [
    "s='jioodsii'\n",
    "print s.replace('i','*')"
   ]
  },
  {
   "cell_type": "code",
   "execution_count": 83,
   "metadata": {
    "collapsed": false
   },
   "outputs": [
    {
     "name": "stdout",
     "output_type": "stream",
     "text": [
      "ji----dsii\n"
     ]
    }
   ],
   "source": [
    "s='jioodsii'\n",
    "print s.replace('o','--')"
   ]
  },
  {
   "cell_type": "code",
   "execution_count": 88,
   "metadata": {
    "collapsed": false
   },
   "outputs": [
    {
     "name": "stdout",
     "output_type": "stream",
     "text": [
      "Original String: ijooiisaii\n",
      "i\n",
      "jooiisaii\n",
      "joo**sa**\n",
      "ijoo**sa**\n"
     ]
    }
   ],
   "source": [
    "# String replace logic\n",
    "s='ijooiisaii'\n",
    "print 'Original String:',s\n",
    "cha=s[0]\n",
    "print cha\n",
    "news=s[1:]\n",
    "print news\n",
    "inter=news.replace('i','*')\n",
    "print inter\n",
    "print cha+inter"
   ]
  },
  {
   "cell_type": "code",
   "execution_count": 90,
   "metadata": {
    "collapsed": false
   },
   "outputs": [
    {
     "name": "stdout",
     "output_type": "stream",
     "text": [
      "a*rdv*rk\n"
     ]
    }
   ],
   "source": [
    "#s='ijooiisaii'\n",
    "s='aardvark'\n",
    "newstr=s[0] + s[1:].replace(s[0],'*')\n",
    "print newstr"
   ]
  },
  {
   "cell_type": "code",
   "execution_count": 91,
   "metadata": {
    "collapsed": false
   },
   "outputs": [
    {
     "data": {
      "text/plain": [
       "'su**t'"
      ]
     },
     "execution_count": 91,
     "metadata": {},
     "output_type": "execute_result"
    }
   ],
   "source": [
    "'sumit'.replace('mi','**')"
   ]
  },
  {
   "cell_type": "code",
   "execution_count": 94,
   "metadata": {
    "collapsed": false
   },
   "outputs": [
    {
     "data": {
      "text/plain": [
       "['sumit', 'is', 'working', 'on', 'python']"
      ]
     },
     "execution_count": 94,
     "metadata": {},
     "output_type": "execute_result"
    }
   ],
   "source": [
    "# split method\n",
    "\"sumit is working on python\".split(\" \")\n"
   ]
  },
  {
   "cell_type": "code",
   "execution_count": 95,
   "metadata": {
    "collapsed": false
   },
   "outputs": [
    {
     "data": {
      "text/plain": [
       "2"
      ]
     },
     "execution_count": 95,
     "metadata": {},
     "output_type": "execute_result"
    }
   ],
   "source": [
    "\"sumit\".find('m')"
   ]
  },
  {
   "cell_type": "code",
   "execution_count": 96,
   "metadata": {
    "collapsed": false
   },
   "outputs": [
    {
     "ename": "TypeError",
     "evalue": "'str' object doesn't support item deletion",
     "output_type": "error",
     "traceback": [
      "\u001b[0;31m\u001b[0m",
      "\u001b[0;31mTypeError\u001b[0mTraceback (most recent call last)",
      "\u001b[0;32m<ipython-input-96-d1d9ba70c293>\u001b[0m in \u001b[0;36m<module>\u001b[0;34m()\u001b[0m\n\u001b[1;32m      1\u001b[0m \u001b[0ms\u001b[0m\u001b[0;34m=\u001b[0m\u001b[0;34m'this is demo'\u001b[0m\u001b[0;34m\u001b[0m\u001b[0m\n\u001b[0;32m----> 2\u001b[0;31m \u001b[0;32mdel\u001b[0m \u001b[0ms\u001b[0m\u001b[0;34m[\u001b[0m\u001b[0;36m0\u001b[0m\u001b[0;34m]\u001b[0m\u001b[0;34m\u001b[0m\u001b[0m\n\u001b[0m",
      "\u001b[0;31mTypeError\u001b[0m: 'str' object doesn't support item deletion"
     ]
    }
   ],
   "source": [
    "# We can not delete or remove characters from string...\n",
    "s='this is demo'\n",
    "del s[0]"
   ]
  },
  {
   "cell_type": "code",
   "execution_count": 97,
   "metadata": {
    "collapsed": false
   },
   "outputs": [
    {
     "ename": "TypeError",
     "evalue": "'str' object does not support item assignment",
     "output_type": "error",
     "traceback": [
      "\u001b[0;31m\u001b[0m",
      "\u001b[0;31mTypeError\u001b[0mTraceback (most recent call last)",
      "\u001b[0;32m<ipython-input-97-cd58c0acfa0e>\u001b[0m in \u001b[0;36m<module>\u001b[0;34m()\u001b[0m\n\u001b[1;32m      1\u001b[0m \u001b[0;31m# We can not change original string once it is declared\u001b[0m\u001b[0;34m\u001b[0m\u001b[0;34m\u001b[0m\u001b[0m\n\u001b[1;32m      2\u001b[0m \u001b[0mmystr\u001b[0m\u001b[0;34m=\u001b[0m\u001b[0;34m'program'\u001b[0m\u001b[0;34m\u001b[0m\u001b[0m\n\u001b[0;32m----> 3\u001b[0;31m \u001b[0mmystr\u001b[0m\u001b[0;34m[\u001b[0m\u001b[0;36m2\u001b[0m\u001b[0;34m]\u001b[0m\u001b[0;34m=\u001b[0m\u001b[0;34m's'\u001b[0m\u001b[0;34m\u001b[0m\u001b[0m\n\u001b[0m",
      "\u001b[0;31mTypeError\u001b[0m: 'str' object does not support item assignment"
     ]
    }
   ],
   "source": [
    "# We can not change original string once it is declared\n",
    "mystr='program'\n",
    "mystr[2]='s'\n"
   ]
  },
  {
   "cell_type": "code",
   "execution_count": 106,
   "metadata": {
    "collapsed": false
   },
   "outputs": [
    {
     "name": "stdout",
     "output_type": "stream",
     "text": [
      "H\n",
      "e\n",
      "l\n",
      "l\n",
      "o\n",
      " \n",
      "W\n",
      "o\n",
      "r\n",
      "l\n",
      "d\n"
     ]
    }
   ],
   "source": [
    "# Iterating through string\n",
    "import sys\n",
    "newstr='Hello World'\n",
    "search='lo'\n",
    "for i in range(len(newstr)):\n",
    "    print newstr[i]"
   ]
  },
  {
   "cell_type": "code",
   "execution_count": 104,
   "metadata": {
    "collapsed": false
   },
   "outputs": [
    {
     "data": {
      "text/plain": [
       "True"
      ]
     },
     "execution_count": 104,
     "metadata": {},
     "output_type": "execute_result"
    }
   ],
   "source": [
    "'a' in 'suma'\n"
   ]
  },
  {
   "cell_type": "code",
   "execution_count": 114,
   "metadata": {
    "collapsed": false
   },
   "outputs": [
    {
     "name": "stdout",
     "output_type": "stream",
     "text": [
      "Hello World\n",
      "this is losana\n",
      "colated in new\n",
      "['Hello World', 'this is losana', 'colated in new']\n",
      "Hello World\n",
      "<type 'str'>\n",
      "l\n",
      "d\n"
     ]
    }
   ],
   "source": [
    "# Search in a string. search the first occurence of string. \n",
    "# Returns the matching line \n",
    "import sys\n",
    "newstr='Hello World\\nthis is losana\\ncolated in new'\n",
    "print newstr\n",
    "search='lo'\n",
    "ns=newstr.split('\\n')\n",
    "print ns\n",
    "print ns[0]\n",
    "print type(ns[0])\n",
    "print ns[0][2]\n",
    "print ns[0][-1]\n",
    "\n",
    "#for i in range(len(newstr)):\n",
    " #   print newstr[i]"
   ]
  },
  {
   "cell_type": "code",
   "execution_count": 115,
   "metadata": {
    "collapsed": false
   },
   "outputs": [
    {
     "name": "stdout",
     "output_type": "stream",
     "text": [
      "sumit\n",
      "140570131067648\n",
      "sumit\n",
      "140570131067648\n"
     ]
    }
   ],
   "source": [
    "# Assignment behavior for string\n",
    "a='sumit'\n",
    "print a\n",
    "print id(a)\n",
    "b=a\n",
    "print b # Both a and b are pointing to same memory locations\n",
    "print id(b)"
   ]
  },
  {
   "cell_type": "code",
   "execution_count": 123,
   "metadata": {
    "collapsed": false
   },
   "outputs": [
    {
     "name": "stdout",
     "output_type": "stream",
     "text": [
      "140570131067648\n",
      "140570131067648\n",
      "sumit.\n",
      "140570131068896\n",
      "sumit\n",
      "140570131068560\n"
     ]
    }
   ],
   "source": [
    "# Make copy of string on different location (Unlike list, it is not possible with [:])\n",
    "fd='sumit'\n",
    "print id(fd)\n",
    "\n",
    "# Try1: \n",
    "news1=fd[:]\n",
    "print id(news1) # still pointing to same memory location\n",
    "\n",
    "# try2\n",
    "news1=(news1+'.') # on concat, mem location changes\n",
    "print news1\n",
    "print id(news1)\n",
    "latest=news1[:-1]\n",
    "print latest\n",
    "print id(latest)\n"
   ]
  },
  {
   "cell_type": "code",
   "execution_count": 125,
   "metadata": {
    "collapsed": false
   },
   "outputs": [
    {
     "name": "stdout",
     "output_type": "stream",
     "text": [
      "True\n"
     ]
    },
    {
     "data": {
      "text/plain": [
       "True"
      ]
     },
     "execution_count": 125,
     "metadata": {},
     "output_type": "execute_result"
    }
   ],
   "source": [
    "# Compare two strings\n",
    "aa='sumit'\n",
    "bb='sumit'\n",
    "print aa==bb\n",
    "'it' in aa"
   ]
  },
  {
   "cell_type": "code",
   "execution_count": null,
   "metadata": {
    "collapsed": true
   },
   "outputs": [],
   "source": []
  }
 ],
 "metadata": {
  "kernelspec": {
   "display_name": "Python 2",
   "language": "python",
   "name": "python2"
  },
  "language_info": {
   "codemirror_mode": {
    "name": "ipython",
    "version": 2
   },
   "file_extension": ".py",
   "mimetype": "text/x-python",
   "name": "python",
   "nbconvert_exporter": "python",
   "pygments_lexer": "ipython2",
   "version": "2.7.6"
  }
 },
 "nbformat": 4,
 "nbformat_minor": 2
}
